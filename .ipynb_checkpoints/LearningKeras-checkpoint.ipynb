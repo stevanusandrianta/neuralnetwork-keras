{
 "cells": [
  {
   "cell_type": "code",
   "execution_count": null,
   "metadata": {
    "collapsed": false,
    "scrolled": true
   },
   "outputs": [
    {
     "name": "stderr",
     "output_type": "stream",
     "text": [
      "Using TensorFlow backend.\n"
     ]
    },
    {
     "name": "stdout",
     "output_type": "stream",
     "text": [
      "Epoch 1/100\n",
      "1000/1000 [==============================] - 5s - loss: 0.6537 - acc: 0.6950     \n",
      "Epoch 2/100\n",
      "1000/1000 [==============================] - 4s - loss: 0.6374 - acc: 0.6900     \n",
      "Epoch 3/100\n",
      "1000/1000 [==============================] - 5s - loss: 0.6471 - acc: 0.6720     \n",
      "Epoch 4/100\n",
      "1000/1000 [==============================] - 5s - loss: 0.6550 - acc: 0.6890     \n",
      "Epoch 5/100\n",
      "1000/1000 [==============================] - 4s - loss: 0.6523 - acc: 0.6850     \n",
      "Epoch 6/100\n",
      "1000/1000 [==============================] - 4s - loss: 0.6443 - acc: 0.6750     \n",
      "Epoch 7/100\n",
      "1000/1000 [==============================] - 4s - loss: 0.6504 - acc: 0.6740     \n",
      "Epoch 8/100\n",
      "1000/1000 [==============================] - 4s - loss: 0.6408 - acc: 0.6980     \n",
      "Epoch 9/100\n",
      "1000/1000 [==============================] - 4s - loss: 0.6514 - acc: 0.6810     \n",
      "Epoch 10/100\n",
      "1000/1000 [==============================] - 4s - loss: 0.6443 - acc: 0.6870     \n",
      "Epoch 11/100\n",
      "1000/1000 [==============================] - 4s - loss: 0.6393 - acc: 0.6830     \n",
      "Epoch 12/100\n",
      " 983/1000 [============================>.] - ETA: 0s - loss: 0.6406 - acc: 0.6867"
     ]
    }
   ],
   "source": [
    "from keras.models import Sequential\n",
    "from keras.layers import Dense\n",
    "from keras.models import load_model\n",
    "from keras.optimizers import SGD\n",
    "from tensorflow.contrib.session_bundle import exporter\n",
    "import numpy as np\n",
    "\n",
    "#load breast cancer dataset\n",
    "dataset = np.loadtxt(\"breast_cancer.csv\", dtype=\"int\", delimiter=\",\")\n",
    "\n",
    "f = dataset[:,0:19]\n",
    "t = dataset[:,20]\n",
    "\n",
    "# create model\n",
    "model = Sequential()\n",
    "model.add(Dense(16, input_dim=19, init='uniform', activation='sigmoid'))\n",
    "model.add(Dense(8, init='uniform', activation='sigmoid'))\n",
    "model.add(Dense(4, init='uniform', activation='sigmoid'))\n",
    "model.add(Dense(1, init='uniform', activation='sigmoid'))\n",
    "\n",
    "# training parameter\n",
    "gd = SGD(lr=0.1, decay=1e-6, momentum=0.9, nesterov=True)\n",
    "\n",
    "# Compile model\n",
    "model.compile(loss='binary_crossentropy', optimizer=\"adam\", metrics=['accuracy'])\n",
    "\n",
    "# Fit the model\n",
    "model.fit(f, t, nb_epoch=100, batch_size=1)\n",
    "\n",
    "# evaluate the model\n",
    "scores = model.evaluate(f, t)\n",
    "print(\"%s: %.2f%%\" % (model.metrics_names[1], scores[1]*100))\n",
    "\n",
    "model.save('model.h5')"
   ]
  },
  {
   "cell_type": "code",
   "execution_count": null,
   "metadata": {
    "collapsed": true
   },
   "outputs": [],
   "source": []
  }
 ],
 "metadata": {
  "kernelspec": {
   "display_name": "Python 3",
   "language": "python",
   "name": "python3"
  },
  "language_info": {
   "codemirror_mode": {
    "name": "ipython",
    "version": 3
   },
   "file_extension": ".py",
   "mimetype": "text/x-python",
   "name": "python",
   "nbconvert_exporter": "python",
   "pygments_lexer": "ipython3",
   "version": "3.5.2"
  }
 },
 "nbformat": 4,
 "nbformat_minor": 1
}
